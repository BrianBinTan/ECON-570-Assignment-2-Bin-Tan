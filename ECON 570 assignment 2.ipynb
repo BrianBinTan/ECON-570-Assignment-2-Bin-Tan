{
 "cells": [
  {
   "cell_type": "markdown",
   "id": "75e67f82",
   "metadata": {},
   "source": [
    "# Assignment 2\n",
    "Name: Bin Tan\n",
    "\n",
    "USC ID: 9538978591"
   ]
  },
  {
   "cell_type": "code",
   "execution_count": 3,
   "id": "54e4d714",
   "metadata": {},
   "outputs": [],
   "source": [
    "def fn_variance(data, ddof=0):\n",
    "    n = len(data)\n",
    "    mean = sum(data) / n\n",
    "    return sum((x - mean) ** 2 for x in data) / (n - ddof)"
   ]
  },
  {
   "cell_type": "code",
   "execution_count": 4,
   "id": "12106a82",
   "metadata": {},
   "outputs": [],
   "source": [
    "def fn_generate_cov(dim):\n",
    "    acc  = []\n",
    "    for i in range(dim):\n",
    "        row = np.ones((1,dim)) * corr\n",
    "        row[0][i] = 1\n",
    "        acc.append(row)\n",
    "    return np.concatenate(acc,axis=0)\n",
    "\n",
    "def fn_generate_multnorm(nobs,corr,nvar):\n",
    "\n",
    "    mu = np.zeros(nvar)\n",
    "    std = (np.abs(np.random.normal(loc = 1, scale = .5,size = (nvar,1))))**(1/2)\n",
    "    # generate random normal distribution\n",
    "    acc = []\n",
    "    for i in range(nvar):\n",
    "        acc.append(np.reshape(np.random.normal(mu[i],std[i],nobs),(nobs,-1)))\n",
    "    \n",
    "    normvars = np.concatenate(acc,axis=1)\n",
    "\n",
    "    cov = fn_generate_cov(nvar)\n",
    "    C = np.linalg.cholesky(cov)\n",
    "\n",
    "    Y = np.transpose(np.dot(C,np.transpose(normvars)))\n",
    "\n",
    "#     return (Y,np.round(np.corrcoef(Y,rowvar=False),2))\n",
    "    return Y\n",
    "\n",
    "def fn_randomize_treatment(N,p=0.5):\n",
    "    treated = random.sample(range(N), round(N*p))\n",
    "    return np.array([(1 if i in treated else 0) for i in range(N)]).reshape([N,1])"
   ]
  },
  {
   "cell_type": "code",
   "execution_count": 5,
   "id": "752c67e9",
   "metadata": {},
   "outputs": [
    {
     "name": "stdout",
     "output_type": "stream",
     "text": [
      "Requirement already satisfied: causalgraphicalmodels in c:\\users\\brian tan\\anaconda3\\lib\\site-packages (0.0.4)Note: you may need to restart the kernel to use updated packages.\n",
      "\n",
      "Requirement already satisfied: numpy in c:\\users\\brian tan\\anaconda3\\lib\\site-packages (from causalgraphicalmodels) (1.20.3)\n",
      "Requirement already satisfied: pandas in c:\\users\\brian tan\\anaconda3\\lib\\site-packages (from causalgraphicalmodels) (1.3.4)\n",
      "Requirement already satisfied: networkx in c:\\users\\brian tan\\anaconda3\\lib\\site-packages (from causalgraphicalmodels) (2.6.3)\n",
      "Requirement already satisfied: graphviz in c:\\users\\brian tan\\anaconda3\\lib\\site-packages (from causalgraphicalmodels) (0.19.2)\n",
      "Requirement already satisfied: pytz>=2017.3 in c:\\users\\brian tan\\anaconda3\\lib\\site-packages (from pandas->causalgraphicalmodels) (2021.3)\n",
      "Requirement already satisfied: python-dateutil>=2.7.3 in c:\\users\\brian tan\\anaconda3\\lib\\site-packages (from pandas->causalgraphicalmodels) (2.8.2)\n",
      "Requirement already satisfied: six>=1.5 in c:\\users\\brian tan\\anaconda3\\lib\\site-packages (from python-dateutil>=2.7.3->pandas->causalgraphicalmodels) (1.16.0)\n"
     ]
    }
   ],
   "source": [
    "pip install causalgraphicalmodels"
   ]
  },
  {
   "cell_type": "code",
   "execution_count": 6,
   "id": "df932cc9",
   "metadata": {},
   "outputs": [],
   "source": [
    "import pandas as pd\n",
    "import numpy as np\n",
    "import random\n",
    "import networkx as nx\n",
    "import statsmodels.api as sm\n",
    "from sklearn.model_selection import cross_val_score\n",
    "from sklearn.model_selection import RepeatedKFold\n",
    "from sklearn.linear_model import Lasso\n",
    "from sklearn.feature_selection import SelectFromModel\n",
    "import matplotlib.pyplot as plt\n",
    "from tqdm import tqdm\n",
    "random.seed(10)\n",
    "\n",
    "import seaborn as sns\n",
    "from causalgraphicalmodels import CausalGraphicalModel\n",
    "import networkx as nx\n",
    "%matplotlib inline\n",
    "import matplotlib.pyplot as plt\n",
    "import numpy as np\n",
    "\n",
    "%matplotlib inline\n",
    "%load_ext autoreload\n",
    "%autoreload 2"
   ]
  },
  {
   "cell_type": "code",
   "execution_count": 7,
   "id": "dc65cb5e",
   "metadata": {},
   "outputs": [],
   "source": [
    "def fn_generate_data(tau,N,p,p0,corr,conf = True,flagX = False):\n",
    "    \"\"\"\n",
    "    p0(int): number of covariates with nonzero coefficients\n",
    "    \"\"\"\n",
    "    nvar = p+2 # 1 confounder and variable for randomizing treatment\n",
    "    corr = 0.5 # correlation for multivariate normal\n",
    "    conf_mult = 1\n",
    "    if conf==False:\n",
    "        conf_mult = 0 # remove confounder from outcome\n",
    "        \n",
    "    allX = fn_generate_multnorm(N,corr,nvar)\n",
    "    W0 = allX[:,0].reshape([N,1]) # variable for RDD assignment\n",
    "    C = allX[:,1].reshape([N,1]) # confounder\n",
    "    X = allX[:,2:] # observed covariates\n",
    "    \n",
    "    T = fn_randomize_treatment(N) # choose treated units\n",
    "    err = np.random.normal(0,1,[N,1])\n",
    "    beta0 = np.random.normal(5,5,[p,1])\n",
    "    \n",
    "    beta0[p0:p] = 0 # sparse model\n",
    "    Yab = tau*T+X@beta0+conf_mult*0.6*C+err\n",
    "    if flagX==False:\n",
    "        return (Yab,T)\n",
    "    else:\n",
    "        return (Yab,T,X)\n",
    "    \n",
    "    # regression discontinuity\n",
    "#     W = W0 + 0.5*C+3*X[:,80].reshape([N,1])-6*X[:,81].reshape([N,1])\n",
    "#     treated = 1*(W>0)\n",
    "#     Yrdd = 1.2* treated - 4*W + X@beta0 +0.6*C+err\n",
    "\n",
    "def fn_tauhat_means(Yt,Yc):\n",
    "    nt = len(Yt)\n",
    "    nc = len(Yc)\n",
    "    tauhat = np.mean(Yt)-np.mean(Yc)\n",
    "    se_tauhat = (np.var(Yt,ddof=1)/nt+np.var(Yc,ddof=1)/nc)**(1/2)\n",
    "    return (tauhat,se_tauhat)\n",
    "\n",
    "def fn_bias_rmse_size(theta0,thetahat,se_thetahat,cval = 1.96):\n",
    "    \"\"\"\n",
    "    theta0 - true parameter value\n",
    "    thetatahat - estimated parameter value\n",
    "    se_thetahat - estiamted se of thetahat\n",
    "    \"\"\"\n",
    "    b = thetahat - theta0\n",
    "    bias = np.mean(b)\n",
    "    rmse = np.sqrt(np.mean(b**2))\n",
    "    tval = b/se_thetahat # paramhat/se_paramhat H0: theta = 0\n",
    "    size = np.mean(1*(np.abs(tval)>cval))\n",
    "    # note size calculated at true parameter value\n",
    "    return (bias,rmse,size)"
   ]
  },
  {
   "cell_type": "markdown",
   "id": "b3e69f44",
   "metadata": {},
   "source": [
    "## 1、Simulate a DGP where the outcome of interest depends on a randomly assigned treatment andsome observed covariates. How does your estimate of the treatment effect parameter compare in the following two cases"
   ]
  },
  {
   "cell_type": "markdown",
   "id": "e6b969e1",
   "metadata": {},
   "source": [
    "### 1.1 Simulate a DGP\n",
    "$y_i = \\tau*T_i+e_i$"
   ]
  },
  {
   "cell_type": "code",
   "execution_count": 8,
   "id": "911b561a",
   "metadata": {},
   "outputs": [],
   "source": [
    "tau = 5\n",
    "corr = .4\n",
    "conf=False\n",
    "p = 3\n",
    "p0 = 2 # number of covariates used in the DGP\n",
    "flagX = 1\n",
    "N = 1000\n",
    "Y,T,X = fn_generate_data(tau,N,p,p0,corr,conf,flagX)"
   ]
  },
  {
   "cell_type": "code",
   "execution_count": 10,
   "id": "0459556b",
   "metadata": {},
   "outputs": [
    {
     "data": {
      "text/html": [
       "<div>\n",
       "<style scoped>\n",
       "    .dataframe tbody tr th:only-of-type {\n",
       "        vertical-align: middle;\n",
       "    }\n",
       "\n",
       "    .dataframe tbody tr th {\n",
       "        vertical-align: top;\n",
       "    }\n",
       "\n",
       "    .dataframe thead th {\n",
       "        text-align: right;\n",
       "    }\n",
       "</style>\n",
       "<table border=\"1\" class=\"dataframe\">\n",
       "  <thead>\n",
       "    <tr style=\"text-align: right;\">\n",
       "      <th></th>\n",
       "      <th>Y</th>\n",
       "      <th>T</th>\n",
       "      <th>X1</th>\n",
       "      <th>X2</th>\n",
       "      <th>X3</th>\n",
       "    </tr>\n",
       "  </thead>\n",
       "  <tbody>\n",
       "    <tr>\n",
       "      <th>0</th>\n",
       "      <td>10.105548</td>\n",
       "      <td>0.0</td>\n",
       "      <td>-1.644220</td>\n",
       "      <td>1.200643</td>\n",
       "      <td>0.298707</td>\n",
       "    </tr>\n",
       "    <tr>\n",
       "      <th>1</th>\n",
       "      <td>5.274470</td>\n",
       "      <td>0.0</td>\n",
       "      <td>-0.035698</td>\n",
       "      <td>1.473425</td>\n",
       "      <td>0.792870</td>\n",
       "    </tr>\n",
       "    <tr>\n",
       "      <th>2</th>\n",
       "      <td>4.197400</td>\n",
       "      <td>1.0</td>\n",
       "      <td>-0.232732</td>\n",
       "      <td>-0.485347</td>\n",
       "      <td>0.492447</td>\n",
       "    </tr>\n",
       "    <tr>\n",
       "      <th>3</th>\n",
       "      <td>-4.326948</td>\n",
       "      <td>0.0</td>\n",
       "      <td>0.087044</td>\n",
       "      <td>-1.253070</td>\n",
       "      <td>-0.508123</td>\n",
       "    </tr>\n",
       "    <tr>\n",
       "      <th>4</th>\n",
       "      <td>-3.960489</td>\n",
       "      <td>1.0</td>\n",
       "      <td>1.495995</td>\n",
       "      <td>-0.445137</td>\n",
       "      <td>-0.371468</td>\n",
       "    </tr>\n",
       "    <tr>\n",
       "      <th>...</th>\n",
       "      <td>...</td>\n",
       "      <td>...</td>\n",
       "      <td>...</td>\n",
       "      <td>...</td>\n",
       "      <td>...</td>\n",
       "    </tr>\n",
       "    <tr>\n",
       "      <th>995</th>\n",
       "      <td>10.808220</td>\n",
       "      <td>1.0</td>\n",
       "      <td>-1.597277</td>\n",
       "      <td>0.126801</td>\n",
       "      <td>1.266987</td>\n",
       "    </tr>\n",
       "    <tr>\n",
       "      <th>996</th>\n",
       "      <td>4.416272</td>\n",
       "      <td>1.0</td>\n",
       "      <td>0.181189</td>\n",
       "      <td>0.049853</td>\n",
       "      <td>-0.143318</td>\n",
       "    </tr>\n",
       "    <tr>\n",
       "      <th>997</th>\n",
       "      <td>11.221931</td>\n",
       "      <td>1.0</td>\n",
       "      <td>-2.001832</td>\n",
       "      <td>-0.396601</td>\n",
       "      <td>-0.575119</td>\n",
       "    </tr>\n",
       "    <tr>\n",
       "      <th>998</th>\n",
       "      <td>-5.117245</td>\n",
       "      <td>1.0</td>\n",
       "      <td>1.121783</td>\n",
       "      <td>-1.396724</td>\n",
       "      <td>0.906446</td>\n",
       "    </tr>\n",
       "    <tr>\n",
       "      <th>999</th>\n",
       "      <td>-2.449431</td>\n",
       "      <td>1.0</td>\n",
       "      <td>1.867133</td>\n",
       "      <td>-0.256420</td>\n",
       "      <td>0.849811</td>\n",
       "    </tr>\n",
       "  </tbody>\n",
       "</table>\n",
       "<p>1000 rows × 5 columns</p>\n",
       "</div>"
      ],
      "text/plain": [
       "             Y    T        X1        X2        X3\n",
       "0    10.105548  0.0 -1.644220  1.200643  0.298707\n",
       "1     5.274470  0.0 -0.035698  1.473425  0.792870\n",
       "2     4.197400  1.0 -0.232732 -0.485347  0.492447\n",
       "3    -4.326948  0.0  0.087044 -1.253070 -0.508123\n",
       "4    -3.960489  1.0  1.495995 -0.445137 -0.371468\n",
       "..         ...  ...       ...       ...       ...\n",
       "995  10.808220  1.0 -1.597277  0.126801  1.266987\n",
       "996   4.416272  1.0  0.181189  0.049853 -0.143318\n",
       "997  11.221931  1.0 -2.001832 -0.396601 -0.575119\n",
       "998  -5.117245  1.0  1.121783 -1.396724  0.906446\n",
       "999  -2.449431  1.0  1.867133 -0.256420  0.849811\n",
       "\n",
       "[1000 rows x 5 columns]"
      ]
     },
     "execution_count": 10,
     "metadata": {},
     "output_type": "execute_result"
    }
   ],
   "source": [
    "data = np.concatenate([Y,T,X],axis = 1)\n",
    "data = pd.DataFrame(data)\n",
    "data.columns = ['Y', 'T', 'X1', 'X2','X3']\n",
    "data.to_csv('data1.csv')\n",
    "data"
   ]
  },
  {
   "cell_type": "markdown",
   "id": "af2797cb",
   "metadata": {},
   "source": [
    "### 1.2 Illustration with a DAG"
   ]
  },
  {
   "cell_type": "code",
   "execution_count": 39,
   "id": "44d85fd3",
   "metadata": {},
   "outputs": [
    {
     "data": {
      "image/png": "[encoded data removed]",
      "text/plain": [
       "<Figure size 432x288 with 1 Axes>"
      ]
     },
     "metadata": {},
     "output_type": "display_data"
    }
   ],
   "source": [
    "G = nx.DiGraph()\n",
    "    \n",
    "G.add_node('s1', desc='Income')\n",
    "G.add_node('s2', desc='Gender')\n",
    "G.add_node('s3', desc='Family Background')\n",
    "G.add_edge('s2','s1')\n",
    "G.add_edge('s3','s1')\n",
    "    \n",
    "pos = nx.spring_layout(G)\n",
    "nx.draw(G, pos)\n",
    "node_labels = nx.get_node_attributes(G, 'desc')\n",
    "nx.draw_networkx_labels(G, pos, labels=node_labels)\n",
    "plt.show()"
   ]
  },
  {
   "cell_type": "markdown",
   "id": "351c138a",
   "metadata": {},
   "source": [
    "### 1.3 Monte Carlo Experiments"
   ]
  },
  {
   "cell_type": "markdown",
   "id": "dedb2471",
   "metadata": {},
   "source": [
    "#### 1.3.1 with covariates not controlled"
   ]
  },
  {
   "cell_type": "code",
   "execution_count": 40,
   "id": "8a7ed038",
   "metadata": {},
   "outputs": [
    {
     "name": "stderr",
     "output_type": "stream",
     "text": [
      "100%|██████████| 1000/1000 [00:00<00:00, 2451.51it/s]\n",
      "100%|██████████| 1000/1000 [00:05<00:00, 195.56it/s]\n"
     ]
    }
   ],
   "source": [
    "estDict = {}\n",
    "R = 1000\n",
    "for N in [100,1000]:\n",
    "    tauhats = []\n",
    "    sehats = []\n",
    "    for r in tqdm(range(R)):\n",
    "        Yexp,T,X = fn_generate_data(tau,N,p,p0,corr,conf,flagX)\n",
    "        Yt = Yexp[np.where(T==1)[0],:]\n",
    "        Yc = Yexp[np.where(T==0)[0],:]\n",
    "        tauhat,se_tauhat = fn_tauhat_means(Yt,Yc)\n",
    "        tauhats = tauhats + [tauhat]\n",
    "        sehats = sehats + [se_tauhat]\n",
    "    estDict[N] = {\n",
    "        'tauhat':np.array(tauhats).reshape([len(tauhats),1]),\n",
    "        'sehat':np.array(sehats).reshape([len(sehats),1])\n",
    "    }"
   ]
  },
  {
   "cell_type": "code",
   "execution_count": 41,
   "id": "edb0b8e0",
   "metadata": {},
   "outputs": [
    {
     "name": "stdout",
     "output_type": "stream",
     "text": [
      "N=100: bias=0.03641830942336827, RMSE=2.1539024162071154, size=0.053\n",
      "N=1000: bias=0.0328387874769437, RMSE=0.6708720094145548, size=0.042\n"
     ]
    }
   ],
   "source": [
    "tau0 = tau*np.ones([R,1])\n",
    "for N, results in estDict.items():\n",
    "    (bias,rmse,size) = fn_bias_rmse_size(tau0,results['tauhat'],\n",
    "                                         results['sehat'])\n",
    "    print(f'N={N}: bias={bias}, RMSE={rmse}, size={size}')"
   ]
  },
  {
   "cell_type": "markdown",
   "id": "c27478fa",
   "metadata": {},
   "source": [
    "#### 1.3.2 with covariates controlled"
   ]
  },
  {
   "cell_type": "code",
   "execution_count": 42,
   "id": "cdca8c98",
   "metadata": {},
   "outputs": [
    {
     "name": "stderr",
     "output_type": "stream",
     "text": [
      "100%|██████████| 1000/1000 [00:00<00:00, 1176.85it/s]\n",
      "100%|██████████| 1000/1000 [00:07<00:00, 141.64it/s]\n"
     ]
    }
   ],
   "source": [
    "estDict = {}\n",
    "R = 1000\n",
    "for N in [100,1000]:\n",
    "    tauhats = []\n",
    "    sehats = []\n",
    "    for r in tqdm(range(R)):\n",
    "        Y,T,X = fn_generate_data(tau,N,p,p0,corr,conf,flagX)\n",
    "        Xobs = X[:,:p0]\n",
    "        covars = np.concatenate([T,Xobs],axis = 1)\n",
    "        mod = sm.OLS(Y,covars)\n",
    "        res = mod.fit()\n",
    "        tauhat = res.params[0]\n",
    "        se_tauhat = res.HC1_se[0]\n",
    "        tauhats = tauhats + [tauhat]\n",
    "        sehats = sehats + [se_tauhat]\n",
    "        \n",
    "    estDict[N] = {\n",
    "        'tauhat':np.array(tauhats).reshape([len(tauhats),1]),\n",
    "        'sehat':np.array(sehats).reshape([len(sehats),1])\n",
    "    }"
   ]
  },
  {
   "cell_type": "code",
   "execution_count": 43,
   "id": "636d9714",
   "metadata": {},
   "outputs": [
    {
     "name": "stdout",
     "output_type": "stream",
     "text": [
      "N=100: bias=0.005853121400751198, RMSE=0.1438215573746766, size=0.063\n",
      "N=1000: bias=-0.0011949301449105914, RMSE=0.04603376846929637, size=0.061\n"
     ]
    }
   ],
   "source": [
    "tau0 = tau*np.ones([R,1])\n",
    "for N, results in estDict.items():\n",
    "    (bias,rmse,size) = fn_bias_rmse_size(tau0,results['tauhat'],\n",
    "                                         results['sehat'])\n",
    "    print(f'N={N}: bias={bias}, RMSE={rmse}, size={size}')"
   ]
  },
  {
   "cell_type": "markdown",
   "id": "14893347",
   "metadata": {},
   "source": [
    "### 1.4 the example of a real-life solution"
   ]
  },
  {
   "cell_type": "markdown",
   "id": "faf2fa2f",
   "metadata": {},
   "source": [
    "##### The gender has impact on the income. At the meantime, the family background, the covariate, also influences the income, and having better family background is more likely to have better job. However, the family background will not affect the gender."
   ]
  },
  {
   "cell_type": "markdown",
   "id": "2f8190f5",
   "metadata": {},
   "source": [
    "## 2、Simulate a DGP with a confounder "
   ]
  },
  {
   "cell_type": "markdown",
   "id": "e245fc33",
   "metadata": {},
   "source": [
    "### 2.1 Simulate a DGP"
   ]
  },
  {
   "cell_type": "code",
   "execution_count": 11,
   "id": "9fe7a197",
   "metadata": {},
   "outputs": [],
   "source": [
    "def fn_generate_data_conf(tau,N,p,corr):\n",
    "\n",
    "    nvar = p+1 # 1 confounder and variable for randomizing treatment\n",
    "    corr = 0.5 # correlation for multivariate normal\n",
    "    X = fn_generate_multnorm(N,corr,nvar)\n",
    "    C = X[:,1].reshape([N,1]) # confounder\n",
    "    T = fn_randomize_treatment(N) # choose treated units\n",
    "    err = np.random.normal(0,1,[N,1])\n",
    "    Yab = tau*T+0.5*C+err\n",
    "    Tab = T+0.5*C\n",
    "\n",
    "    return (Yab,Tab,C)"
   ]
  },
  {
   "cell_type": "code",
   "execution_count": 20,
   "id": "5b71b3bc",
   "metadata": {},
   "outputs": [],
   "source": [
    "tau = 5\n",
    "corr = .4\n",
    "p = 3\n",
    "Y,T,C = fn_generate_data_conf(tau,N,p,corr)"
   ]
  },
  {
   "cell_type": "code",
   "execution_count": 21,
   "id": "11cf2558",
   "metadata": {},
   "outputs": [
    {
     "data": {
      "text/html": [
       "<div>\n",
       "<style scoped>\n",
       "    .dataframe tbody tr th:only-of-type {\n",
       "        vertical-align: middle;\n",
       "    }\n",
       "\n",
       "    .dataframe tbody tr th {\n",
       "        vertical-align: top;\n",
       "    }\n",
       "\n",
       "    .dataframe thead th {\n",
       "        text-align: right;\n",
       "    }\n",
       "</style>\n",
       "<table border=\"1\" class=\"dataframe\">\n",
       "  <thead>\n",
       "    <tr style=\"text-align: right;\">\n",
       "      <th></th>\n",
       "      <th>Y</th>\n",
       "      <th>T</th>\n",
       "      <th>C</th>\n",
       "    </tr>\n",
       "  </thead>\n",
       "  <tbody>\n",
       "    <tr>\n",
       "      <th>0</th>\n",
       "      <td>4.602186</td>\n",
       "      <td>2.276798</td>\n",
       "      <td>2.553596</td>\n",
       "    </tr>\n",
       "    <tr>\n",
       "      <th>1</th>\n",
       "      <td>4.199721</td>\n",
       "      <td>2.399209</td>\n",
       "      <td>2.798418</td>\n",
       "    </tr>\n",
       "    <tr>\n",
       "      <th>2</th>\n",
       "      <td>-0.287469</td>\n",
       "      <td>0.261446</td>\n",
       "      <td>0.522891</td>\n",
       "    </tr>\n",
       "    <tr>\n",
       "      <th>3</th>\n",
       "      <td>5.924566</td>\n",
       "      <td>1.277804</td>\n",
       "      <td>0.555609</td>\n",
       "    </tr>\n",
       "    <tr>\n",
       "      <th>4</th>\n",
       "      <td>0.430609</td>\n",
       "      <td>-0.049918</td>\n",
       "      <td>-0.099836</td>\n",
       "    </tr>\n",
       "    <tr>\n",
       "      <th>...</th>\n",
       "      <td>...</td>\n",
       "      <td>...</td>\n",
       "      <td>...</td>\n",
       "    </tr>\n",
       "    <tr>\n",
       "      <th>995</th>\n",
       "      <td>1.109876</td>\n",
       "      <td>0.799638</td>\n",
       "      <td>1.599276</td>\n",
       "    </tr>\n",
       "    <tr>\n",
       "      <th>996</th>\n",
       "      <td>1.670265</td>\n",
       "      <td>0.351319</td>\n",
       "      <td>0.702639</td>\n",
       "    </tr>\n",
       "    <tr>\n",
       "      <th>997</th>\n",
       "      <td>-0.449148</td>\n",
       "      <td>-0.968340</td>\n",
       "      <td>-1.936681</td>\n",
       "    </tr>\n",
       "    <tr>\n",
       "      <th>998</th>\n",
       "      <td>-0.070348</td>\n",
       "      <td>-0.255025</td>\n",
       "      <td>-0.510051</td>\n",
       "    </tr>\n",
       "    <tr>\n",
       "      <th>999</th>\n",
       "      <td>-0.397476</td>\n",
       "      <td>0.239069</td>\n",
       "      <td>0.478139</td>\n",
       "    </tr>\n",
       "  </tbody>\n",
       "</table>\n",
       "<p>1000 rows × 3 columns</p>\n",
       "</div>"
      ],
      "text/plain": [
       "            Y         T         C\n",
       "0    4.602186  2.276798  2.553596\n",
       "1    4.199721  2.399209  2.798418\n",
       "2   -0.287469  0.261446  0.522891\n",
       "3    5.924566  1.277804  0.555609\n",
       "4    0.430609 -0.049918 -0.099836\n",
       "..        ...       ...       ...\n",
       "995  1.109876  0.799638  1.599276\n",
       "996  1.670265  0.351319  0.702639\n",
       "997 -0.449148 -0.968340 -1.936681\n",
       "998 -0.070348 -0.255025 -0.510051\n",
       "999 -0.397476  0.239069  0.478139\n",
       "\n",
       "[1000 rows x 3 columns]"
      ]
     },
     "execution_count": 21,
     "metadata": {},
     "output_type": "execute_result"
    }
   ],
   "source": [
    "data = np.concatenate([Y,T,C],axis = 1)\n",
    "data = pd.DataFrame(data)\n",
    "data.columns = ['Y', 'T', 'C']\n",
    "data.to_csv('data2.csv')\n",
    "data"
   ]
  },
  {
   "cell_type": "markdown",
   "id": "78844fd2",
   "metadata": {},
   "source": [
    "### 2.2 Illustrate your DGP with a DAG"
   ]
  },
  {
   "cell_type": "code",
   "execution_count": 23,
   "id": "f0887828",
   "metadata": {},
   "outputs": [
    {
     "data": {
      "image/png": "[encoded data removed]",
      "text/plain": [
       "<Figure size 432x288 with 1 Axes>"
      ]
     },
     "metadata": {},
     "output_type": "display_data"
    }
   ],
   "source": [
    "G = nx.DiGraph()\n",
    "    \n",
    "G.add_node('s1', desc='Income')\n",
    "G.add_node('s2', desc='Education Year')\n",
    "G.add_node('s3', desc='Ambition or Perservance')\n",
    "G.add_edge('s2','s1')\n",
    "G.add_edge('s3','s2')\n",
    "G.add_edge('s3','s1')\n",
    "    \n",
    "pos = nx.spring_layout(G)\n",
    "nx.draw(G, pos)\n",
    "node_labels = nx.get_node_attributes(G, 'desc')\n",
    "nx.draw_networkx_labels(G, pos, labels=node_labels)\n",
    "plt.show()"
   ]
  },
  {
   "cell_type": "markdown",
   "id": "152ec1e1",
   "metadata": {},
   "source": [
    "### 2.3 Monte carlo experiments\n",
    "2.3.1 with a confounder not controlled"
   ]
  },
  {
   "cell_type": "code",
   "execution_count": 15,
   "id": "4b83cbd3",
   "metadata": {},
   "outputs": [
    {
     "name": "stderr",
     "output_type": "stream",
     "text": [
      "100%|██████████| 2000/2000 [00:01<00:00, 1516.90it/s]\n",
      "100%|██████████| 2000/2000 [00:12<00:00, 159.48it/s]\n"
     ]
    }
   ],
   "source": [
    "estDict = {}\n",
    "R = 2000\n",
    "for N in [100,1000]:\n",
    "    tauhats = []\n",
    "    sehats = []\n",
    "    for r in tqdm(range(R)):\n",
    "        Y,T,C = fn_generate_data_conf(tau,N,p,corr)\n",
    "        covars = np.concatenate([T],axis = 1)\n",
    "        mod = sm.OLS(Y,covars)\n",
    "        res = mod.fit()\n",
    "        tauhat = res.params[0]\n",
    "        se_tauhat = res.HC1_se[0]\n",
    "        tauhats = tauhats + [tauhat]\n",
    "        sehats = sehats + [se_tauhat]\n",
    "    estDict[N] = {\n",
    "        'tauhat':np.array(tauhats).reshape([len(tauhats),1]),\n",
    "        'sehat':np.array(sehats).reshape([len(sehats),1])\n",
    "    }"
   ]
  },
  {
   "cell_type": "code",
   "execution_count": 16,
   "id": "31af0fdf",
   "metadata": {},
   "outputs": [
    {
     "name": "stdout",
     "output_type": "stream",
     "text": [
      "N=100: bias=-0.3163582681960556, RMSE=0.3509297177521992, size=0.6865\n",
      "N=1000: bias=-0.32533090757755223, RMSE=0.33877641044258294, size=0.986\n"
     ]
    }
   ],
   "source": [
    "tau0 = tau*np.ones([R,1])\n",
    "for N, results in estDict.items():\n",
    "    (bias,rmse,size) = fn_bias_rmse_size(tau0,results['tauhat'],\n",
    "                                         results['sehat'])\n",
    "    print(f'N={N}: bias={bias}, RMSE={rmse}, size={size}')"
   ]
  },
  {
   "cell_type": "markdown",
   "id": "01a1d9a4",
   "metadata": {},
   "source": [
    "#### 2.3.2 with a confounder controlled"
   ]
  },
  {
   "cell_type": "code",
   "execution_count": 17,
   "id": "83cb4b52",
   "metadata": {},
   "outputs": [
    {
     "name": "stderr",
     "output_type": "stream",
     "text": [
      "100%|██████████| 1000/1000 [00:00<00:00, 1422.24it/s]\n",
      "100%|██████████| 1000/1000 [00:06<00:00, 152.85it/s]\n"
     ]
    }
   ],
   "source": [
    "estDict = {}\n",
    "R = 1000\n",
    "for N in [100,1000]:\n",
    "    tauhats = []\n",
    "    sehats = []\n",
    "    for r in tqdm(range(R)):\n",
    "        Y,T,C = fn_generate_data_conf(tau,N,p,corr)\n",
    "        covars = np.concatenate([T,C],axis = 1)\n",
    "        mod = sm.OLS(Y,covars)\n",
    "        res = mod.fit()\n",
    "        tauhat = res.params[0]\n",
    "        se_tauhat = res.HC1_se[0]\n",
    "        tauhats = tauhats + [tauhat]\n",
    "        sehats = sehats + [se_tauhat]\n",
    "        \n",
    "    estDict[N] = {\n",
    "        'tauhat':np.array(tauhats).reshape([len(tauhats),1]),\n",
    "        'sehat':np.array(sehats).reshape([len(sehats),1])\n",
    "    }"
   ]
  },
  {
   "cell_type": "code",
   "execution_count": 18,
   "id": "f9cb0ad6",
   "metadata": {},
   "outputs": [
    {
     "name": "stdout",
     "output_type": "stream",
     "text": [
      "N=100: bias=-0.007658168368191977, RMSE=0.14112616036700956, size=0.067\n",
      "N=1000: bias=0.0009465843699023595, RMSE=0.0442584266469135, size=0.047\n"
     ]
    }
   ],
   "source": [
    "tau0 = tau*np.ones([R,1])\n",
    "for N, results in estDict.items():\n",
    "    (bias,rmse,size) = fn_bias_rmse_size(tau0,results['tauhat'],\n",
    "                                         results['sehat'])\n",
    "    print(f'N={N}: bias={bias}, RMSE={rmse}, size={size}')"
   ]
  },
  {
   "cell_type": "markdown",
   "id": "8807174a",
   "metadata": {},
   "source": [
    "### 2.4 the example of a real-life solution"
   ]
  },
  {
   "cell_type": "markdown",
   "id": "4c0a84d4",
   "metadata": {},
   "source": [
    "##### The education year has impact on the income. The treatment variable is education year. The confounder is ambition or perseverance. The outcome variable is income. In this case, the education will impact income. And people with ambition or perservance will have higher education year which leads to higher income. The people with ambition or perservance will do a better job in work, which will lead to higher income.\n"
   ]
  },
  {
   "cell_type": "markdown",
   "id": "34aeb671",
   "metadata": {},
   "source": [
    "## 3 Simulate a DGP with selection bias into the treatment "
   ]
  },
  {
   "cell_type": "markdown",
   "id": "d65547c0",
   "metadata": {},
   "source": [
    "### 3.1 Simulate a DGP"
   ]
  },
  {
   "cell_type": "code",
   "execution_count": 24,
   "id": "21d91ba7",
   "metadata": {},
   "outputs": [],
   "source": [
    "def fn_generate_data_s(tau,N,p,corr):\n",
    "\n",
    "    nvar = p+1 # 1 for selection bias\n",
    "    corr = 0.5 # correlation for multivariate normal\n",
    " \n",
    "    allX = fn_generate_multnorm(N,corr,nvar)\n",
    "    T = fn_randomize_treatment(N) # choose treated units\n",
    "    err = np.random.normal(0,1,[N,1])\n",
    "    U = np.random.normal(0,1,[N,1])\n",
    "    Y = tau*T+err\n",
    "    S = 0.5*T+0.5*Y+U\n",
    "\n",
    "    return (Y,T,S)"
   ]
  },
  {
   "cell_type": "code",
   "execution_count": 25,
   "id": "c557c3dc",
   "metadata": {},
   "outputs": [
    {
     "data": {
      "text/html": [
       "<div>\n",
       "<style scoped>\n",
       "    .dataframe tbody tr th:only-of-type {\n",
       "        vertical-align: middle;\n",
       "    }\n",
       "\n",
       "    .dataframe tbody tr th {\n",
       "        vertical-align: top;\n",
       "    }\n",
       "\n",
       "    .dataframe thead th {\n",
       "        text-align: right;\n",
       "    }\n",
       "</style>\n",
       "<table border=\"1\" class=\"dataframe\">\n",
       "  <thead>\n",
       "    <tr style=\"text-align: right;\">\n",
       "      <th></th>\n",
       "      <th>Y</th>\n",
       "      <th>T</th>\n",
       "      <th>S</th>\n",
       "    </tr>\n",
       "  </thead>\n",
       "  <tbody>\n",
       "    <tr>\n",
       "      <th>0</th>\n",
       "      <td>-0.141079</td>\n",
       "      <td>0.0</td>\n",
       "      <td>1.142989</td>\n",
       "    </tr>\n",
       "    <tr>\n",
       "      <th>1</th>\n",
       "      <td>0.469998</td>\n",
       "      <td>1.0</td>\n",
       "      <td>1.970725</td>\n",
       "    </tr>\n",
       "    <tr>\n",
       "      <th>2</th>\n",
       "      <td>-0.190977</td>\n",
       "      <td>0.0</td>\n",
       "      <td>-0.946997</td>\n",
       "    </tr>\n",
       "    <tr>\n",
       "      <th>3</th>\n",
       "      <td>-0.797913</td>\n",
       "      <td>1.0</td>\n",
       "      <td>-0.501756</td>\n",
       "    </tr>\n",
       "    <tr>\n",
       "      <th>4</th>\n",
       "      <td>-0.691743</td>\n",
       "      <td>0.0</td>\n",
       "      <td>-1.163443</td>\n",
       "    </tr>\n",
       "    <tr>\n",
       "      <th>...</th>\n",
       "      <td>...</td>\n",
       "      <td>...</td>\n",
       "      <td>...</td>\n",
       "    </tr>\n",
       "    <tr>\n",
       "      <th>995</th>\n",
       "      <td>-0.899276</td>\n",
       "      <td>0.0</td>\n",
       "      <td>1.225740</td>\n",
       "    </tr>\n",
       "    <tr>\n",
       "      <th>996</th>\n",
       "      <td>-0.653876</td>\n",
       "      <td>1.0</td>\n",
       "      <td>-0.060609</td>\n",
       "    </tr>\n",
       "    <tr>\n",
       "      <th>997</th>\n",
       "      <td>0.378224</td>\n",
       "      <td>1.0</td>\n",
       "      <td>1.606301</td>\n",
       "    </tr>\n",
       "    <tr>\n",
       "      <th>998</th>\n",
       "      <td>-0.472802</td>\n",
       "      <td>0.0</td>\n",
       "      <td>-0.055100</td>\n",
       "    </tr>\n",
       "    <tr>\n",
       "      <th>999</th>\n",
       "      <td>-0.567470</td>\n",
       "      <td>1.0</td>\n",
       "      <td>-0.730164</td>\n",
       "    </tr>\n",
       "  </tbody>\n",
       "</table>\n",
       "<p>1000 rows × 3 columns</p>\n",
       "</div>"
      ],
      "text/plain": [
       "            Y    T         S\n",
       "0   -0.141079  0.0  1.142989\n",
       "1    0.469998  1.0  1.970725\n",
       "2   -0.190977  0.0 -0.946997\n",
       "3   -0.797913  1.0 -0.501756\n",
       "4   -0.691743  0.0 -1.163443\n",
       "..        ...  ...       ...\n",
       "995 -0.899276  0.0  1.225740\n",
       "996 -0.653876  1.0 -0.060609\n",
       "997  0.378224  1.0  1.606301\n",
       "998 -0.472802  0.0 -0.055100\n",
       "999 -0.567470  1.0 -0.730164\n",
       "\n",
       "[1000 rows x 3 columns]"
      ]
     },
     "execution_count": 25,
     "metadata": {},
     "output_type": "execute_result"
    }
   ],
   "source": [
    "tau = 0.1\n",
    "corr = 0.5\n",
    "p = 3\n",
    "N = 1000\n",
    "Y,T,S = fn_generate_data_s(tau,N,p,corr)\n",
    "\n",
    "data = np.concatenate([Y,T,S],axis = 1)\n",
    "data = pd.DataFrame(data)\n",
    "data.columns = ['Y', 'T', 'S']\n",
    "data.to_csv('data3.csv')\n",
    "data"
   ]
  },
  {
   "cell_type": "markdown",
   "id": "c5b0ce20",
   "metadata": {},
   "source": [
    "### 3.2 Illustrate your DGP with a DAG"
   ]
  },
  {
   "cell_type": "code",
   "execution_count": 31,
   "id": "c4b66a73",
   "metadata": {},
   "outputs": [
    {
     "data": {
      "image/png": "[encoded data removed]",
      "text/plain": [
       "<Figure size 432x288 with 1 Axes>"
      ]
     },
     "metadata": {},
     "output_type": "display_data"
    }
   ],
   "source": [
    "G = nx.DiGraph()\n",
    "    \n",
    "G.add_node('s1', desc='Income')\n",
    "G.add_node('s2', desc='College Degree')\n",
    "G.add_node('s3', desc='Achieve Motivation')\n",
    "G.add_edge('s2','s1')\n",
    "G.add_edge('s1','s3')\n",
    "G.add_edge('s2','s3')\n",
    "    \n",
    "pos = nx.spring_layout(G)\n",
    "nx.draw(G, pos)\n",
    "node_labels = nx.get_node_attributes(G, 'desc')\n",
    "nx.draw_networkx_labels(G, pos, labels=node_labels)\n",
    "plt.show()"
   ]
  },
  {
   "cell_type": "markdown",
   "id": "0558448e",
   "metadata": {},
   "source": [
    "### 3.3 Monte carlo experiments"
   ]
  },
  {
   "cell_type": "markdown",
   "id": "d12fc0c9",
   "metadata": {},
   "source": [
    "#### 3.3.1 with selection bias not controlled"
   ]
  },
  {
   "cell_type": "code",
   "execution_count": 27,
   "id": "27b280ea",
   "metadata": {},
   "outputs": [
    {
     "name": "stderr",
     "output_type": "stream",
     "text": [
      "100%|██████████| 1000/1000 [00:00<00:00, 2819.06it/s]\n",
      "100%|██████████| 1000/1000 [00:05<00:00, 194.31it/s]\n"
     ]
    }
   ],
   "source": [
    "estDict = {}\n",
    "R = 1000\n",
    "for N in [100,1000]:\n",
    "    tauhats = []\n",
    "    sehats = []\n",
    "    for r in tqdm(range(R)):\n",
    "        Yexp,T,Z = fn_generate_data_s(tau,N,p,corr)   \n",
    "        Yt = Yexp[np.where(T==1)[0],:]\n",
    "        Yc = Yexp[np.where(T==0)[0],:]\n",
    "        tauhat,se_tauhat = fn_tauhat_means(Yt,Yc)\n",
    "        tauhats = tauhats + [tauhat]\n",
    "        sehats = sehats + [se_tauhat]\n",
    "        \n",
    "    estDict[N] = {\n",
    "        'tauhat':np.array(tauhats).reshape([len(tauhats),1]),\n",
    "        'sehat':np.array(sehats).reshape([len(sehats),1])\n",
    "    }"
   ]
  },
  {
   "cell_type": "code",
   "execution_count": 28,
   "id": "63cf0623",
   "metadata": {},
   "outputs": [
    {
     "name": "stdout",
     "output_type": "stream",
     "text": [
      "N=100: bias=-0.0001811679650731841, RMSE=0.20489967810303528, size=0.067\n",
      "N=1000: bias=0.00021785340513089224, RMSE=0.06236675931891555, size=0.048\n"
     ]
    }
   ],
   "source": [
    "tau0 = tau*np.ones([R,1])\n",
    "for N, results in estDict.items():\n",
    "    (bias,rmse,size) = fn_bias_rmse_size(tau0,results['tauhat'],\n",
    "                                         results['sehat'])\n",
    "    print(f'N={N}: bias={bias}, RMSE={rmse}, size={size}')"
   ]
  },
  {
   "cell_type": "markdown",
   "id": "bb3a68d3",
   "metadata": {},
   "source": [
    "#### 3.3.2 DGP with selection bias controlled"
   ]
  },
  {
   "cell_type": "code",
   "execution_count": 29,
   "id": "fccb2dfd",
   "metadata": {},
   "outputs": [
    {
     "name": "stderr",
     "output_type": "stream",
     "text": [
      "100%|██████████| 1000/1000 [00:00<00:00, 1454.45it/s]\n",
      "100%|██████████| 1000/1000 [00:06<00:00, 145.80it/s]\n"
     ]
    }
   ],
   "source": [
    "estDict = {}\n",
    "R = 1000\n",
    "for N in [100,1000]:\n",
    "    tauhats = []\n",
    "    sehats = []\n",
    "    for r in tqdm(range(R)):\n",
    "        Yexp,T,Z = fn_generate_data_s(tau,N,p,corr)\n",
    "        covars = np.concatenate([T,Z],axis = 1)\n",
    "        mod = sm.OLS(Yexp,covars)\n",
    "        res = mod.fit()\n",
    "        tauhat = res.params[0]\n",
    "        se_tauhat = res.HC1_se[0]\n",
    "        tauhats = tauhats + [tauhat]\n",
    "        sehats = sehats + [se_tauhat]\n",
    "        \n",
    "    estDict[N] = {\n",
    "        'tauhat':np.array(tauhats).reshape([len(tauhats),1]),\n",
    "        'sehat':np.array(sehats).reshape([len(sehats),1])\n",
    "    }"
   ]
  },
  {
   "cell_type": "code",
   "execution_count": 30,
   "id": "c4faedea",
   "metadata": {},
   "outputs": [
    {
     "name": "stdout",
     "output_type": "stream",
     "text": [
      "N=100: bias=-0.21347676520166994, RMSE=0.2532354880807739, size=0.367\n",
      "N=1000: bias=-0.2211969910854141, RMSE=0.22529005049812476, size=0.999\n"
     ]
    }
   ],
   "source": [
    "tau0 = tau*np.ones([R,1])\n",
    "for N, results in estDict.items():\n",
    "    (bias,rmse,size) = fn_bias_rmse_size(tau0,results['tauhat'],\n",
    "                                         results['sehat'])\n",
    "    print(f'N={N}: bias={bias}, RMSE={rmse}, size={size}')"
   ]
  },
  {
   "cell_type": "markdown",
   "id": "1fbf2303",
   "metadata": {},
   "source": [
    "### 3.4 the example of a real-life solution"
   ]
  },
  {
   "cell_type": "markdown",
   "id": "b808517f",
   "metadata": {},
   "source": [
    "Comparing wages of individuals with and without a college degree is selection bias.The treatment variable is whether the people have college degree or not. The outcome variable is income. The group with a college degree would be made for the most part of achievers who would have likely done well in their job and received higher wages independently of their education."
   ]
  }
 ],
 "metadata": {
  "kernelspec": {
   "display_name": "Python 3 (ipykernel)",
   "language": "python",
   "name": "python3"
  },
  "language_info": {
   "codemirror_mode": {
    "name": "ipython",
    "version": 3
   },
   "file_extension": ".py",
   "mimetype": "text/x-python",
   "name": "python",
   "nbconvert_exporter": "python",
   "pygments_lexer": "ipython3",
   "version": "3.9.7"
  }
 },
 "nbformat": 4,
 "nbformat_minor": 5
}
